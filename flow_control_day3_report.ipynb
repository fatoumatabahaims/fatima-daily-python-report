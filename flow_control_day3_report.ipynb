{
 "cells": [
  {
   "cell_type": "code",
   "execution_count": 1,
   "id": "265d72cf-0b1a-47f7-86d3-50f3832b46fb",
   "metadata": {},
   "outputs": [
    {
     "name": "stdout",
     "output_type": "stream",
     "text": [
      "10\n"
     ]
    }
   ],
   "source": [
    "a=10\n",
    "print(a)"
   ]
  },
  {
   "cell_type": "code",
   "execution_count": 2,
   "id": "e9e08312-c58c-44ba-96e5-e07f6d1395f8",
   "metadata": {},
   "outputs": [],
   "source": [
    "if a<0:\n",
    "    print (a, \" is cool\")\n"
   ]
  },
  {
   "cell_type": "code",
   "execution_count": 3,
   "id": "7b340d8e-a9e4-4c40-9dfc-0e4277b4b3fb",
   "metadata": {},
   "outputs": [
    {
     "name": "stdout",
     "output_type": "stream",
     "text": [
      "10  is cool\n"
     ]
    }
   ],
   "source": [
    "if a>0:\n",
    "    print (a, \" is cool\")"
   ]
  },
  {
   "cell_type": "code",
   "execution_count": 7,
   "id": "0f681ae5-e4c1-4862-94a4-360d78bb9525",
   "metadata": {},
   "outputs": [
    {
     "name": "stdout",
     "output_type": "stream",
     "text": [
      "0  is cool\n"
     ]
    }
   ],
   "source": [
    "a=0\n",
    "if a<0:\n",
    "    print (a, \" is not cool\")\n",
    "else:\n",
    "     print (a, \" is cool\")"
   ]
  },
  {
   "cell_type": "code",
   "execution_count": 8,
   "id": "271c7fa1-9b80-4d8a-97a0-9a1332d43402",
   "metadata": {},
   "outputs": [
    {
     "name": "stdout",
     "output_type": "stream",
     "text": [
      "0  is really cool\n"
     ]
    }
   ],
   "source": [
    "a=0\n",
    "if a<0:\n",
    "    print (a, \" is not cool\")\n",
    "elif a==0:\n",
    "     print (a, \" is really cool\")\n",
    "else:\n",
    "     print (a, \" is cool\")"
   ]
  },
  {
   "cell_type": "code",
   "execution_count": 17,
   "id": "91c08739-3c2d-4484-ac82-fef6f39cf2aa",
   "metadata": {},
   "outputs": [
    {
     "name": "stdin",
     "output_type": "stream",
     "text": [
      "donner un nombre 0\n"
     ]
    },
    {
     "name": "stdout",
     "output_type": "stream",
     "text": [
      "0  is really cool\n"
     ]
    }
   ],
   "source": [
    "a=int(input(\"donner un nombre\"))\n",
    "if a<0:\n",
    "    print (a, \" is not cool\")\n",
    "elif a==0:\n",
    "     print (a, \" is really cool\")\n",
    "else:\n",
    "     print (a, \" is cool\")\n"
   ]
  },
  {
   "cell_type": "code",
   "execution_count": 19,
   "id": "341d6062-7f08-4147-9260-132f2f8cf2bf",
   "metadata": {},
   "outputs": [
    {
     "name": "stdin",
     "output_type": "stream",
     "text": [
      "donner un nombre 3\n",
      "donner un deuxième nombre 2\n"
     ]
    },
    {
     "name": "stdout",
     "output_type": "stream",
     "text": [
      "3  is greater than 2\n"
     ]
    }
   ],
   "source": [
    "a=int(input(\"donner un nombre\"))\n",
    "b=int(input(\"donner un deuxième nombre\"))\n",
    "\n",
    "if a>b:\n",
    "    print (a, \" is greater than\",b)\n",
    "elif a==b:\n",
    "     print (a, \" is equalto b\")\n",
    "else:\n",
    "     print (a, \" is less than b\")"
   ]
  },
  {
   "cell_type": "code",
   "execution_count": 20,
   "id": "5ed714ee-f101-4af6-aa66-ae824437910d",
   "metadata": {},
   "outputs": [
    {
     "name": "stdout",
     "output_type": "stream",
     "text": [
      "h\n",
      "t\n",
      "s\n",
      "j\n",
      "c\n"
     ]
    }
   ],
   "source": [
    "for char in 'htsjc':\n",
    "    print(char)"
   ]
  },
  {
   "cell_type": "code",
   "execution_count": 24,
   "id": "9bcad4de-d09e-4dd3-934d-03bf50ed7624",
   "metadata": {},
   "outputs": [
    {
     "name": "stdout",
     "output_type": "stream",
     "text": [
      "c\n",
      "f\n",
      "d\n"
     ]
    }
   ],
   "source": [
    "for char in ['htsjc', 'dfjef', 'zdygsd']:\n",
    "    #print(char)\n",
    "    print(char[-1])"
   ]
  },
  {
   "cell_type": "code",
   "execution_count": 27,
   "id": "32198c1a-9772-4587-87b7-654310c4d504",
   "metadata": {},
   "outputs": [
    {
     "name": "stdout",
     "output_type": "stream",
     "text": [
      "1\n",
      "1\n",
      " ----------------------\n",
      "2\n",
      "4\n",
      " ----------------------\n",
      "3\n",
      "9\n",
      " ----------------------\n",
      "4\n",
      "16\n",
      " ----------------------\n",
      "5\n",
      "25\n",
      " ----------------------\n",
      "6\n",
      "36\n",
      " ----------------------\n"
     ]
    }
   ],
   "source": [
    "cher=1\n",
    "while cher<7:\n",
    "    print(cher)\n",
    "    print(cher**2)\n",
    "    print(\" ----------------------\")\n",
    "    cher+=1\n"
   ]
  },
  {
   "cell_type": "code",
   "execution_count": 28,
   "id": "bd5ae86c-517d-4e43-8eb2-be94b0042519",
   "metadata": {},
   "outputs": [
    {
     "data": {
      "text/plain": [
       "[6, 4, 2, 8, 0, 6]"
      ]
     },
     "execution_count": 28,
     "metadata": {},
     "output_type": "execute_result"
    }
   ],
   "source": [
    "even=[]\n",
    "list_numbes=[6,4,2,8,0,6,3,5]\n",
    "for i in list_numbes:\n",
    "    if i%2==0:\n",
    "        even.append(i)\n",
    "even"
   ]
  },
  {
   "cell_type": "code",
   "execution_count": 43,
   "id": "b92a5f8a-9df5-4f56-8749-629432049d92",
   "metadata": {},
   "outputs": [
    {
     "name": "stdout",
     "output_type": "stream",
     "text": [
      "8\n"
     ]
    }
   ],
   "source": [
    "x=0\n",
    "list_number=[6,4,2,8,0,6,3,5]\n",
    "for i in list_number:\n",
    "    if i%2!=0:\n",
    "        x+=i\n",
    "        \n",
    "print(f\"{x}\")"
   ]
  },
  {
   "cell_type": "code",
   "execution_count": 40,
   "id": "77bd4aca-b40f-4116-b304-d2de34bcb2bd",
   "metadata": {},
   "outputs": [
    {
     "name": "stdout",
     "output_type": "stream",
     "text": [
      " the sum of odd numbers is 8\n"
     ]
    }
   ],
   "source": [
    "sum_odd=0\n",
    "list_numbes=[6,4,2,8,0,6,3,5]\n",
    "for i in list_numbes:\n",
    "    if i%2!=0:\n",
    "        sum_odd+=i\n",
    "\n",
    "print(f\" the sum of odd numbers is {sum_odd}\")"
   ]
  },
  {
   "cell_type": "code",
   "execution_count": null,
   "id": "382545a0-9549-48f5-b8a1-78f5add84c81",
   "metadata": {},
   "outputs": [],
   "source": []
  }
 ],
 "metadata": {
  "kernelspec": {
   "display_name": "Python 3 (ipykernel)",
   "language": "python",
   "name": "python3"
  },
  "language_info": {
   "codemirror_mode": {
    "name": "ipython",
    "version": 3
   },
   "file_extension": ".py",
   "mimetype": "text/x-python",
   "name": "python",
   "nbconvert_exporter": "python",
   "pygments_lexer": "ipython3",
   "version": "3.13.3"
  }
 },
 "nbformat": 4,
 "nbformat_minor": 5
}
