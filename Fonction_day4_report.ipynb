{
 "cells": [
  {
   "cell_type": "code",
   "execution_count": 6,
   "id": "31db5735-39e5-4830-9375-c377a873793a",
   "metadata": {},
   "outputs": [],
   "source": [
    "def my_square(x):\n",
    "    \"\"\"\n",
    "     this foctions computes the square of given number.\n",
    "     input: a number x.\n",
    "     Output:the square of x \n",
    "     \"\"\"\n",
    "    res=x*x\n",
    "    return res"
   ]
  },
  {
   "cell_type": "code",
   "execution_count": 7,
   "id": "7db4b126-1200-4ffa-b9ee-83eb41c3a591",
   "metadata": {},
   "outputs": [
    {
     "data": {
      "text/plain": [
       "25"
      ]
     },
     "execution_count": 7,
     "metadata": {},
     "output_type": "execute_result"
    }
   ],
   "source": [
    "my_square(5)"
   ]
  },
  {
   "cell_type": "code",
   "execution_count": 8,
   "id": "0f87cae3-a7e6-4b5f-aa2d-fbc50d710ca0",
   "metadata": {},
   "outputs": [
    {
     "data": {
      "text/plain": [
       "function"
      ]
     },
     "execution_count": 8,
     "metadata": {},
     "output_type": "execute_result"
    }
   ],
   "source": [
    "type(my_square)"
   ]
  },
  {
   "cell_type": "code",
   "execution_count": 13,
   "id": "1124d17a-f4d9-4b85-8783-412f0163ae47",
   "metadata": {},
   "outputs": [
    {
     "data": {
      "text/plain": [
       "'\\nthis foctions computes the square of given number.\\ninput: a number x.\\nOutput:the square of x \\n'"
      ]
     },
     "execution_count": 13,
     "metadata": {},
     "output_type": "execute_result"
    }
   ],
   "source": [
    "my_square.__doc__\n"
   ]
  },
  {
   "cell_type": "code",
   "execution_count": 26,
   "id": "a8dfb25f-1776-405b-821d-84c58898476e",
   "metadata": {},
   "outputs": [],
   "source": [
    "def my_add(x,y):\n",
    "    \n",
    "     \"\"\"\n",
    "     this foctions computes the square of given number.\n",
    "     input: a number x.\n",
    "     Output:the square of x \n",
    "     \"\"\"\n",
    "     return x, y, x+y"
   ]
  },
  {
   "cell_type": "code",
   "execution_count": 52,
   "id": "68a4562d-4556-4c1c-a102-c0b1d22971ba",
   "metadata": {},
   "outputs": [],
   "source": [
    "def fact(n):\n",
    "    if n<=1:         #base case\n",
    "        return 1\n",
    "    return n*fact(n-1)   #recursive step"
   ]
  },
  {
   "cell_type": "code",
   "execution_count": 37,
   "id": "657526a4-6687-408b-80ef-28764cc14d92",
   "metadata": {},
   "outputs": [
    {
     "data": {
      "text/plain": [
       "720"
      ]
     },
     "execution_count": 37,
     "metadata": {},
     "output_type": "execute_result"
    }
   ],
   "source": [
    "fact(6)  "
   ]
  },
  {
   "cell_type": "code",
   "execution_count": 53,
   "id": "a79595e4-e2d3-4639-aa47-d7df7fcbce5b",
   "metadata": {},
   "outputs": [],
   "source": [
    "def fonction(n):\n",
    "    if n<=1:         \n",
    "        return n\n",
    "    return fonction(n-1) + fonction(n-2)"
   ]
  },
  {
   "cell_type": "code",
   "execution_count": 55,
   "id": "f0a170fc-3593-424e-a0c2-2725a18b770d",
   "metadata": {},
   "outputs": [
    {
     "data": {
      "text/plain": [
       "1"
      ]
     },
     "execution_count": 55,
     "metadata": {},
     "output_type": "execute_result"
    }
   ],
   "source": [
    "#fact(0)\n",
    "#fact(1)\n",
    "fonction(2)"
   ]
  },
  {
   "cell_type": "code",
   "execution_count": null,
   "id": "a0159c7d-1eb3-4367-b118-9269a32c8f12",
   "metadata": {},
   "outputs": [],
   "source": []
  }
 ],
 "metadata": {
  "kernelspec": {
   "display_name": "Python 3 (ipykernel)",
   "language": "python",
   "name": "python3"
  },
  "language_info": {
   "codemirror_mode": {
    "name": "ipython",
    "version": 3
   },
   "file_extension": ".py",
   "mimetype": "text/x-python",
   "name": "python",
   "nbconvert_exporter": "python",
   "pygments_lexer": "ipython3",
   "version": "3.13.3"
  }
 },
 "nbformat": 4,
 "nbformat_minor": 5
}
